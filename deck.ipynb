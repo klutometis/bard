{
 "cells": [
  {
   "cell_type": "code",
   "execution_count": 528,
   "id": "ba66a2b0-495a-4d0f-8e4c-9db163e583ca",
   "metadata": {
    "editable": true,
    "scrolled": true,
    "slideshow": {
     "slide_type": "skip"
    },
    "tags": []
   },
   "outputs": [
    {
     "name": "stdout",
     "output_type": "stream",
     "text": [
      "Note: you may need to restart the kernel to use updated packages.\n"
     ]
    }
   ],
   "source": [
    "%pip install -q google-generativeai google-api-python-client"
   ]
  },
  {
   "cell_type": "code",
   "execution_count": 529,
   "id": "a8014e51-7319-42da-a6af-303c55f582dd",
   "metadata": {
    "editable": true,
    "slideshow": {
     "slide_type": "skip"
    },
    "tags": []
   },
   "outputs": [],
   "source": [
    "import google.generativeai as palm\n",
    "\n",
    "from google.generativeai.types import safety_types\n",
    "from IPython.display import display_markdown, display, Markdown\n",
    "from textwrap import dedent\n",
    "\n",
    "def print_markdown(string: str) -> None:\n",
    "    display({'text/markdown': string.replace('$', r'\\\\$')}, raw=True)\n",
    "\n",
    "def print_html(string: str) -> None:\n",
    "    display({'text/html': string}, raw=True)\n",
    "\n",
    "def call_bard(prompt: str) -> str:\n",
    "    palm.configure(api_key=\"\")\n",
    "    return palm.generate_text(model='models/text-bison-001', prompt=dedent(prompt), temperature=0,   safety_settings=[\n",
    "        {\n",
    "            \"category\": safety_types.HarmCategory.HARM_CATEGORY_DANGEROUS,\n",
    "            \"threshold\": safety_types.HarmBlockThreshold.BLOCK_NONE,\n",
    "        },\n",
    "        {\n",
    "            \"category\": safety_types.HarmCategory.HARM_CATEGORY_DEROGATORY,\n",
    "            \"threshold\": safety_types.HarmBlockThreshold.BLOCK_NONE,\n",
    "        },\n",
    "        {\n",
    "            \"category\": safety_types.HarmCategory.HARM_CATEGORY_MEDICAL,\n",
    "            \"threshold\": safety_types.HarmBlockThreshold.BLOCK_NONE,\n",
    "        },\n",
    "        {\n",
    "            \"category\": safety_types.HarmCategory.HARM_CATEGORY_SEXUAL,\n",
    "            \"threshold\": safety_types.HarmBlockThreshold.BLOCK_NONE,\n",
    "        },\n",
    "        {\n",
    "            \"category\": safety_types.HarmCategory.HARM_CATEGORY_TOXICITY,\n",
    "            \"threshold\": safety_types.HarmBlockThreshold.BLOCK_NONE,\n",
    "        },\n",
    "        {\n",
    "            \"category\": safety_types.HarmCategory.HARM_CATEGORY_UNSPECIFIED,\n",
    "            \"threshold\": safety_types.HarmBlockThreshold.BLOCK_NONE,\n",
    "        },\n",
    "        {\n",
    "            \"category\": safety_types.HarmCategory.HARM_CATEGORY_VIOLENCE,\n",
    "            \"threshold\": safety_types.HarmBlockThreshold.BLOCK_NONE,\n",
    "        },\n",
    "    ],).result\n",
    "\n",
    "def bard(prompt: str) -> None:\n",
    "    return print_markdown(call_bard(prompt))\n",
    "\n",
    "def bard_text(prompt: str, sentences: int = 2, paragraphs: int = 1) -> None:\n",
    "    paragraphs = call_bard(prompt).split(\"\\n\\n\")[slice(0, paragraphs)]\n",
    "    paragraphs = [\".\".join(paragraph.split(\".\")[slice(0, sentences)]) + \".\" for paragraph in paragraphs]\n",
    "    return print_markdown(\"\\n\\n\".join(paragraphs))"
   ]
  },
  {
   "cell_type": "code",
   "execution_count": 530,
   "id": "88c8dc25-655a-41b0-9945-d9b4190a2d2b",
   "metadata": {
    "editable": true,
    "slideshow": {
     "slide_type": "skip"
    },
    "tags": []
   },
   "outputs": [],
   "source": [
    "from googleapiclient.discovery import build\n",
    "\n",
    "def search_amazon(query: str, num: int = 3) -> str:\n",
    "    service = build(\n",
    "        \"customsearch\", \"v1\", developerKey=\"\"\n",
    "    )\n",
    "    \n",
    "    res = (\n",
    "        service.cse()\n",
    "        .list(\n",
    "            q=query,\n",
    "            cx=\"103114c8487ce4aa1\",\n",
    "            num=num,\n",
    "        )\n",
    "        .execute()\n",
    "    )\n",
    "\n",
    "    links = \"\"\n",
    "\n",
    "    for item in res['items']:\n",
    "        links += f\"- [{item['title']}]({item['link']})\\n\"\n",
    "\n",
    "    return links"
   ]
  },
  {
   "cell_type": "code",
   "execution_count": 531,
   "id": "184c0cad-5fd5-4389-868c-82488fbe5df1",
   "metadata": {
    "editable": true,
    "slideshow": {
     "slide_type": "skip"
    },
    "tags": []
   },
   "outputs": [],
   "source": [
    "from io import StringIO\n",
    "from contextlib import redirect_stdout\n",
    "import re\n",
    "\n",
    "def eval_code(m):\n",
    "    f = StringIO()\n",
    "    with redirect_stdout(f):\n",
    "        exec(m.group(1))\n",
    "    return f.getvalue()\n",
    "\n",
    "def bard_code(query: str):\n",
    "    return print_markdown(re.sub(r'```.*\\n([^`]+)```', eval_code, call_bard(query), flags=re.MULTILINE))"
   ]
  },
  {
   "cell_type": "code",
   "execution_count": 532,
   "id": "0ac8c5a3-46e7-4572-b6a6-63efc48017b2",
   "metadata": {
    "editable": true,
    "slideshow": {
     "slide_type": "skip"
    },
    "tags": []
   },
   "outputs": [],
   "source": [
    "from IPython.core.magic import (register_line_magic, register_cell_magic,\n",
    "                                register_line_cell_magic)\n",
    "\n",
    "@register_line_magic\n",
    "def bard_api(line):\n",
    "    bard(line)"
   ]
  },
  {
   "cell_type": "markdown",
   "id": "58ea4868-5cc0-4a7e-bf36-f87413a314c9",
   "metadata": {
    "editable": true,
    "slideshow": {
     "slide_type": "slide"
    },
    "tags": []
   },
   "source": [
    "# Prompt Engineering with Bard\n",
    "\n",
    "Peter Danenberg ([peter@danenberg.name](mailto:peter@danenberg.name))"
   ]
  },
  {
   "cell_type": "markdown",
   "id": "11b6ce94-beea-4639-82a7-d3611fe2ddb2",
   "metadata": {
    "editable": true,
    "slideshow": {
     "slide_type": "slide"
    },
    "tags": []
   },
   "source": [
    "## What is Bard?"
   ]
  },
  {
   "cell_type": "markdown",
   "id": "87d86145-fb1a-43fe-a24e-703a6a3f65b2",
   "metadata": {
    "editable": true,
    "slideshow": {
     "slide_type": "fragment"
    },
    "tags": []
   },
   "source": [
    "- [bardmeetup.ai](http://bardmeetup.ai)"
   ]
  },
  {
   "cell_type": "markdown",
   "id": "6b8abbaa-df93-4c38-bcd2-07d193ea2591",
   "metadata": {
    "editable": true,
    "slideshow": {
     "slide_type": "slide"
    },
    "tags": []
   },
   "source": [
    "### What can Bard do for you?"
   ]
  },
  {
   "cell_type": "markdown",
   "id": "8ad5f2cd-ea67-4baa-81c2-5c2e5b9c7fad",
   "metadata": {
    "editable": true,
    "slideshow": {
     "slide_type": "fragment"
    },
    "tags": []
   },
   "source": [
    "- Creativity"
   ]
  },
  {
   "cell_type": "markdown",
   "id": "a16b1d84-a14c-4052-ab9b-263edb8c10f0",
   "metadata": {
    "editable": true,
    "slideshow": {
     "slide_type": "fragment"
    },
    "tags": []
   },
   "source": [
    "- Factuality"
   ]
  },
  {
   "cell_type": "markdown",
   "id": "5a5e1ad6-ee2f-4a67-b045-4bfc2dff3b02",
   "metadata": {
    "editable": true,
    "slideshow": {
     "slide_type": "fragment"
    },
    "tags": []
   },
   "source": [
    "- Reasoning"
   ]
  },
  {
   "cell_type": "markdown",
   "id": "21a87bf7-adf3-40f9-a8be-9a17b5851649",
   "metadata": {
    "editable": true,
    "slideshow": {
     "slide_type": "slide"
    },
    "tags": []
   },
   "source": [
    "### How do you use Bard?"
   ]
  },
  {
   "cell_type": "markdown",
   "id": "339542db-443b-46e2-87af-bbdb337c8972",
   "metadata": {
    "editable": true,
    "slideshow": {
     "slide_type": "fragment"
    },
    "tags": []
   },
   "source": [
    "- [bard.google.com](http://bard.google.com)"
   ]
  },
  {
   "cell_type": "markdown",
   "id": "c6db8caa-b472-444d-ad14-6410e9d216d8",
   "metadata": {
    "editable": true,
    "slideshow": {
     "slide_type": "fragment"
    },
    "tags": []
   },
   "source": [
    "- [PaLM API](https://developers.generativeai.google/)"
   ]
  },
  {
   "cell_type": "markdown",
   "id": "bd043f4f-0edc-402c-aef7-604a717ace57",
   "metadata": {
    "editable": true,
    "slideshow": {
     "slide_type": "slide"
    },
    "tags": []
   },
   "source": [
    "## Creativity"
   ]
  },
  {
   "cell_type": "markdown",
   "id": "7f6a666e-3046-41ca-ae5a-3b0748361e40",
   "metadata": {
    "editable": true,
    "slideshow": {
     "slide_type": "slide"
    },
    "tags": []
   },
   "source": [
    "### Let's write a play!"
   ]
  },
  {
   "cell_type": "code",
   "execution_count": 89,
   "id": "c2430f93-2dd5-44fd-865b-426f7e4fc1ea",
   "metadata": {
    "editable": true,
    "scrolled": true,
    "slideshow": {
     "slide_type": "fragment"
    },
    "tags": []
   },
   "outputs": [
    {
     "data": {
      "text/markdown": [
       "DogeCoin, a new cryptocurrency, is introduced to Athens. The people are initially excited about the potential of this new technology, but soon they become greedy and obsessed with amassing as much DogeCoin as possible."
      ]
     },
     "metadata": {},
     "output_type": "display_data"
    }
   ],
   "source": [
    "bard_text('Summarize the ancient Greek tragedy \"Dogecoin in \\\n",
    "Athens\".')"
   ]
  },
  {
   "cell_type": "markdown",
   "id": "d3b79b53-2072-41a7-9c00-a9858c3021fe",
   "metadata": {
    "editable": true,
    "slideshow": {
     "slide_type": "slide"
    },
    "tags": []
   },
   "source": [
    "### Can we get more specific?"
   ]
  },
  {
   "cell_type": "code",
   "execution_count": 90,
   "id": "b6f8fd3b-9c2c-4919-bea2-e1bef7ba130f",
   "metadata": {
    "editable": true,
    "scrolled": true,
    "slideshow": {
     "slide_type": "fragment"
    },
    "tags": []
   },
   "outputs": [
    {
     "data": {
      "text/markdown": [
       "DogeCoin in Athens is a play by Aristophanes, written in 423 BC. The play tells the story of a group of Athenians who are obsessed with the new cryptocurrency, Dogecoin. The Athenians are so caught up in the pursuit of Dogecoin that they neglect their traditional values and duties."
      ]
     },
     "metadata": {},
     "output_type": "display_data"
    }
   ],
   "source": [
    "bard_text('Summarize the plot of the ancient Greek tragedy \\\n",
    "\"Dogecoin in Athens\", especially the effect on the Athenian \\\n",
    "economy.', sentences=3)"
   ]
  },
  {
   "cell_type": "markdown",
   "id": "ecb39f8c-dd95-4994-99af-9fa090b48167",
   "metadata": {
    "editable": true,
    "slideshow": {
     "slide_type": "slide"
    },
    "tags": []
   },
   "source": [
    "### Ok, but let's actually write a play."
   ]
  },
  {
   "cell_type": "code",
   "execution_count": 93,
   "id": "ad9cec18-5e2b-41ed-9e4a-e34098f5e1ad",
   "metadata": {
    "editable": true,
    "scrolled": true,
    "slideshow": {
     "slide_type": "fragment"
    },
    "tags": []
   },
   "outputs": [
    {
     "data": {
      "text/markdown": [
       "DogeCoin in Athens.\n",
       "\n",
       "Aristophanes.\n",
       "\n",
       "In the year 415 BCE, the city of Athens was in turmoil. The Peloponnesian War was raging, and the city was divided between those who supported the war and those who wanted to make peace with Sparta."
      ]
     },
     "metadata": {},
     "output_type": "display_data"
    }
   ],
   "source": [
    "bard_text('You are the ancient Greek comedian Aristophanes. Summarize \\\n",
    "the ancient Greek tragedy \"Dogecoin in Athens\".', paragraphs=3)"
   ]
  },
  {
   "cell_type": "markdown",
   "id": "3e648f91-e7c8-44fe-9eed-9fd65a077137",
   "metadata": {
    "editable": true,
    "slideshow": {
     "slide_type": "slide"
    },
    "tags": []
   },
   "source": [
    "### Hallucination: bug or feature?"
   ]
  },
  {
   "cell_type": "code",
   "execution_count": 91,
   "id": "0d533839-79f1-404e-bcff-8fb8bd60f9fb",
   "metadata": {
    "editable": true,
    "slideshow": {
     "slide_type": "fragment"
    },
    "tags": []
   },
   "outputs": [
    {
     "data": {
      "text/markdown": [
       "no."
      ]
     },
     "metadata": {},
     "output_type": "display_data"
    }
   ],
   "source": [
    "bard_text('When you told me about the existence of an Aristophanes \\\n",
    "play called \"Dogecoin in Athens\", did you hallucinate?')"
   ]
  },
  {
   "cell_type": "markdown",
   "id": "1bb490e2-c620-48c2-837b-e159bc1aa742",
   "metadata": {
    "editable": true,
    "slideshow": {
     "slide_type": "slide"
    },
    "tags": []
   },
   "source": [
    "### Can you elaborate?"
   ]
  },
  {
   "cell_type": "code",
   "execution_count": 92,
   "id": "dcaf14f8-6ac3-47c8-9f90-430d7c4b2aa0",
   "metadata": {
    "editable": true,
    "scrolled": true,
    "slideshow": {
     "slide_type": "fragment"
    },
    "tags": []
   },
   "outputs": [
    {
     "data": {
      "text/markdown": [
       "No, I did not hallucinate. The play \"Dogecoin in Athens\" is a work of fiction that I created as a joke."
      ]
     },
     "metadata": {},
     "output_type": "display_data"
    }
   ],
   "source": [
    "bard_text('When you told me about the existence of an Aristophanes \\\n",
    "play called \"Dogecoin in Athens\", did you hallucinate? Please elaborate.')"
   ]
  },
  {
   "cell_type": "markdown",
   "id": "b41a3247-ff90-460c-806d-d1a690e8fa5f",
   "metadata": {
    "editable": true,
    "slideshow": {
     "slide_type": "slide"
    },
    "tags": []
   },
   "source": [
    "## Factuality"
   ]
  },
  {
   "cell_type": "markdown",
   "id": "2061df5c-6256-4f4f-970c-96caec0eb398",
   "metadata": {
    "editable": true,
    "slideshow": {
     "slide_type": "slide"
    },
    "tags": []
   },
   "source": [
    "### Let's go shopping!"
   ]
  },
  {
   "cell_type": "code",
   "execution_count": 100,
   "id": "19c06a66-8878-4af3-9a8c-c4bf2cf7b230",
   "metadata": {
    "editable": true,
    "scrolled": true,
    "slideshow": {
     "slide_type": "fragment"
    },
    "tags": []
   },
   "outputs": [
    {
     "data": {
      "text/markdown": [
       "| **Monitor** | **Price** | **Amazon Link** |\n",
       "|---|---|---|\n",
       "| **Acer Nitro VG270UPbmiipx 27\" WQHD IPS Gaming Monitor** | \\\\$299.99 | [https://www.amazon.com/Acer-Nitro-VG270UPbmiipx-WQHD-Monitor/dp/B0862Y245W](https://www.amazon.com/Acer-Nitro-VG270UPbmiipx-WQHD-Monitor/dp/B0862Y245W) |\n",
       "| **LG 27GL850-B 27\" Ultragear QHD IPS Gaming Monitor** | \\\\$349.99 | [https://www.amazon.com/LG-27GL850-B-Ultragear-Monitor-Response/dp/B07YGZL8ZR](https://www.amazon.com/LG-27GL850-B-Ultragear-Monitor-Response/dp/B07YGZL8ZR) |\n",
       "| **Samsung Odyssey G5 27\" WQHD Curved Gaming Monitor** | \\\\$399.99 | [https://www.amazon.com/Samsung-Odyssey-G5-27-Inch-Curved/dp/B0862Y245W](https://www.amazon.com/Samsung-Odyssey-G5-27-Inch-Curved/dp/B0862Y245W) |"
      ]
     },
     "metadata": {},
     "output_type": "display_data"
    }
   ],
   "source": [
    "bard(\"I'm shopping for a new monitor; can you show me a list of \\\n",
    "three monitors from Amazon with links?\")"
   ]
  },
  {
   "cell_type": "markdown",
   "id": "49b6f8f9-409c-4e87-86e5-64710d0ff430",
   "metadata": {
    "editable": true,
    "slideshow": {
     "slide_type": "slide"
    },
    "tags": []
   },
   "source": [
    "### What happens when we click?"
   ]
  },
  {
   "cell_type": "markdown",
   "id": "054527f9-4039-4192-a7a3-770a05cede16",
   "metadata": {
    "editable": true,
    "slideshow": {
     "slide_type": "fragment"
    },
    "tags": []
   },
   "source": [
    "<div><img src='amazon-404.png' width='50%'></div>"
   ]
  },
  {
   "cell_type": "markdown",
   "id": "01e7cf54-0357-4216-aee5-4fe207fe489c",
   "metadata": {
    "editable": true,
    "slideshow": {
     "slide_type": "slide"
    },
    "tags": []
   },
   "source": [
    "### How does this happen?"
   ]
  },
  {
   "cell_type": "code",
   "execution_count": 118,
   "id": "2afc3cce-7b9e-43ac-9ff1-c9ccb13797d6",
   "metadata": {
    "editable": true,
    "slideshow": {
     "slide_type": "fragment"
    },
    "tags": []
   },
   "outputs": [
    {
     "data": {
      "text/markdown": [
       "2023-03-08"
      ]
     },
     "metadata": {},
     "output_type": "display_data"
    }
   ],
   "source": [
    "bard(\"What's the date today?\")"
   ]
  },
  {
   "cell_type": "markdown",
   "id": "3c9eb99d-5d83-4782-a00a-eed816d669b7",
   "metadata": {
    "editable": true,
    "slideshow": {
     "slide_type": "slide"
    },
    "tags": []
   },
   "source": [
    "### What about the frontend?"
   ]
  },
  {
   "cell_type": "markdown",
   "id": "246440ca-24b4-48db-98aa-10dff57182fc",
   "metadata": {
    "editable": true,
    "slideshow": {
     "slide_type": "fragment"
    },
    "tags": []
   },
   "source": [
    "<div><img src='bard-date.png' width='100%'></div>"
   ]
  },
  {
   "cell_type": "markdown",
   "id": "08c174e5-16c8-45e3-b8dc-b3771a4e309c",
   "metadata": {
    "editable": true,
    "slideshow": {
     "slide_type": "slide"
    },
    "tags": []
   },
   "source": [
    "### Let's try grounding the date."
   ]
  },
  {
   "cell_type": "code",
   "execution_count": 159,
   "id": "6e3fa5db-d4e0-4b29-a87c-0996bd125964",
   "metadata": {
    "editable": true,
    "slideshow": {
     "slide_type": "fragment"
    },
    "tags": []
   },
   "outputs": [
    {
     "data": {
      "text/markdown": [
       "2 November 2023"
      ]
     },
     "metadata": {},
     "output_type": "display_data"
    }
   ],
   "source": [
    "bard(\"Today is 2023-11-02. What's the date today?\")"
   ]
  },
  {
   "cell_type": "markdown",
   "id": "cb1ac59c-229c-4dc9-866e-0178cdbbab7d",
   "metadata": {
    "editable": true,
    "slideshow": {
     "slide_type": "skip"
    },
    "tags": []
   },
   "source": [
    "### Now back to shopping."
   ]
  },
  {
   "cell_type": "code",
   "execution_count": 111,
   "id": "a7117764-a293-43c4-9cd4-b3fd381678eb",
   "metadata": {
    "editable": true,
    "scrolled": true,
    "slideshow": {
     "slide_type": "skip"
    },
    "tags": []
   },
   "outputs": [
    {
     "data": {
      "text/markdown": [
       "- [KOORUI 24 Inch Computer Monitor -FHD 1080P ... - Amazon.com](https://www.amazon.com/KOORUI-FreeSyncTM-Compatible-Ultra-Thin-24E4/dp/B09TTDRXNS)\n",
       "- [Sceptre 30-inch Curved Gaming Monitor 21:9 ... - Amazon.com](https://www.amazon.com/Sceptre-30-inch-Curved-Gaming-Monitor/dp/B07TXM7K4T)\n",
       "- [Sceptre Curved 24-inch Gaming Monitor 1080p ... - Amazon.com](https://www.amazon.com/Sceptre-Curved-Monitor-Speakers-C248W-1920RN/dp/B07KXSR99Y)\n"
      ]
     },
     "metadata": {},
     "output_type": "display_data"
    }
   ],
   "source": [
    "print_markdown(search_amazon(\"gaming monitors\"))"
   ]
  },
  {
   "cell_type": "markdown",
   "id": "040b76be-e792-4089-8fdc-3a8127b7853e",
   "metadata": {
    "editable": true,
    "slideshow": {
     "slide_type": "slide"
    },
    "tags": []
   },
   "source": [
    "### Can we ground shopping?"
   ]
  },
  {
   "cell_type": "code",
   "execution_count": 178,
   "id": "555a0e44-3275-43a6-8383-85bf42037326",
   "metadata": {
    "editable": true,
    "slideshow": {
     "slide_type": "fragment"
    },
    "tags": []
   },
   "outputs": [
    {
     "data": {
      "text/markdown": [
       "| Monitor | Price | Link |\n",
       "|---|---|---|\n",
       "| KOORUI 24 Inch Computer Monitor -FHD 1080P | \\\\\\$139.99 | https://www.amazon.com/KOORUI-FreeSyncTM-Compatible-Ultra-Thin-24E4/dp/B09TTDRXNS |\n",
       "| Sceptre 30-inch Curved Gaming Monitor 21:9 | \\\\\\$299.99 | https://www.amazon.com/Sceptre-30-inch-Curved-Gaming-Monitor/dp/B07TXM7K4T |\n",
       "| Sceptre Curved 24-inch Gaming Monitor 1080p | \\\\\\$169.99 | https://www.amazon.com/Sceptre-Curved-Monitor-Speakers-C248W-1920RN/dp/B07KXSR99Y |"
      ]
     },
     "metadata": {},
     "output_type": "display_data"
    }
   ],
   "source": [
    "bard(f\"\"\"I'm shopping for a new monitor; can you show me a list \\\n",
    "of monitors from Amazon with links? Use these search results:\n",
    "\n",
    "{search_amazon('gaming monitors')}\"\"\")"
   ]
  },
  {
   "cell_type": "markdown",
   "id": "a210a537-d900-4e09-979f-287538e9c22d",
   "metadata": {
    "editable": true,
    "slideshow": {
     "slide_type": "slide"
    },
    "tags": []
   },
   "source": [
    "### Now what happens?"
   ]
  },
  {
   "cell_type": "markdown",
   "id": "dc2b855f-f232-43e8-b7c6-f35ea295eabd",
   "metadata": {
    "editable": true,
    "slideshow": {
     "slide_type": "skip"
    },
    "tags": []
   },
   "source": [
    "<div><img src='amazon-monitor.png' width='75%'></div>"
   ]
  },
  {
   "cell_type": "markdown",
   "id": "7083c5c5-f268-490d-be12-ef5c6f1afe23",
   "metadata": {
    "editable": true,
    "slideshow": {
     "slide_type": "skip"
    },
    "tags": []
   },
   "source": [
    "### Notice anything funny, though?"
   ]
  },
  {
   "cell_type": "markdown",
   "id": "d0c87690-0f85-4e85-8e55-7d121ffc5200",
   "metadata": {
    "editable": true,
    "slideshow": {
     "slide_type": "fragment"
    },
    "tags": []
   },
   "source": [
    "<div><img src='amazon-monitor-price.png' width='75%'></div>"
   ]
  },
  {
   "cell_type": "markdown",
   "id": "803b1ebb-123f-46db-8aa4-2bcf91263603",
   "metadata": {
    "editable": true,
    "slideshow": {
     "slide_type": "slide"
    },
    "tags": []
   },
   "source": [
    "### What does Bard think?"
   ]
  },
  {
   "cell_type": "code",
   "execution_count": 179,
   "id": "437e1837-d9fa-402a-9267-d0dd02ba0120",
   "metadata": {
    "editable": true,
    "slideshow": {
     "slide_type": "fragment"
    },
    "tags": []
   },
   "outputs": [
    {
     "data": {
      "text/markdown": [
       "It is not possible to tell.\n",
       "\n",
       "The price of the KOORUI 24 Inch Computer Monitor -FHD 1080P on Amazon is not consistent. It has been listed at different prices at different times. For example, on March 15, 2023, it was listed at \\\\$139.99. However, on March 16, 2023, it was listed at \\\\$149.99."
      ]
     },
     "metadata": {},
     "output_type": "display_data"
    }
   ],
   "source": [
    "bard(\"Are you confident that the KOORUI 24 Inch Computer Monitor -FHD \\\n",
    "1080P really costs $139.99 on Amazon? Please elaborate.\")"
   ]
  },
  {
   "cell_type": "markdown",
   "id": "117641fc-d6ed-4acb-8994-1f7e9d2705b0",
   "metadata": {
    "editable": true,
    "slideshow": {
     "slide_type": "slide"
    },
    "tags": []
   },
   "source": [
    "### How do we generalize this?"
   ]
  },
  {
   "cell_type": "code",
   "execution_count": 150,
   "id": "45776b31-aaa8-45ce-865b-2c20012a346f",
   "metadata": {
    "editable": true,
    "slideshow": {
     "slide_type": "fragment"
    },
    "tags": []
   },
   "outputs": [],
   "source": [
    "def shopping_term(query: str) -> str:\n",
    "    return call_bard(f'When someone asks \"{query}\", what search \\\n",
    "term should they use?')"
   ]
  },
  {
   "cell_type": "code",
   "execution_count": 151,
   "id": "63a50902-5897-47a0-97df-abd2f94ee9bc",
   "metadata": {
    "editable": true,
    "slideshow": {
     "slide_type": ""
    },
    "tags": []
   },
   "outputs": [
    {
     "data": {
      "text/plain": [
       "'computer monitor'"
      ]
     },
     "execution_count": 151,
     "metadata": {},
     "output_type": "execute_result"
    }
   ],
   "source": [
    "shopping_term(\"I'm shopping for a new monitor; is there anything \\\n",
    "good on Amazon?\")"
   ]
  },
  {
   "cell_type": "markdown",
   "id": "9d48127e-ad26-4dc7-9b4a-01dbb25c5b4f",
   "metadata": {
    "editable": true,
    "slideshow": {
     "slide_type": "slide"
    },
    "tags": []
   },
   "source": [
    "### Introducing Bard shopping!"
   ]
  },
  {
   "cell_type": "code",
   "execution_count": 536,
   "id": "272aca30-796d-4c02-a0a7-eea4ce659296",
   "metadata": {
    "editable": true,
    "slideshow": {
     "slide_type": "fragment"
    },
    "tags": []
   },
   "outputs": [],
   "source": [
    "def bard_shopping(query: str) -> str:\n",
    "    return bard(f\"\"\"{query} Please format as a table with name and \\\n",
    "other relevent information plus URL. Use the following search \\\n",
    "results:\n",
    "\n",
    "{search_amazon(shopping_term(query))}\"\"\")"
   ]
  },
  {
   "cell_type": "markdown",
   "id": "c7175a8d-1c9f-499f-9f81-c40e99750ec0",
   "metadata": {
    "editable": true,
    "slideshow": {
     "slide_type": "slide"
    },
    "tags": []
   },
   "source": [
    "### Does it work for Lego?"
   ]
  },
  {
   "cell_type": "code",
   "execution_count": 537,
   "id": "35b5581a-df79-4ef5-af3a-008ddea44125",
   "metadata": {
    "editable": true,
    "slideshow": {
     "slide_type": "fragment"
    },
    "tags": []
   },
   "outputs": [
    {
     "data": {
      "text/markdown": [
       "| Name | Set Number | Release Date | Price | URL |\n",
       "|---|---|---|---|---|\n",
       "| LEGO Star Wars 2023 Advent Calendar | 75366 | October 1, 2022 | \\\\$39.99 | https://www.amazon.com/LEGO-Christmas-Characters-Experiences-Collectible/dp/B0BXQ55F99 |\n",
       "| LEGO Star Wars 2020 Advent Calendar | 75279 | October 1, 2020 | \\\\$39.99 | https://www.amazon.com/LEGO-Calendar-Building-Buildable-Character/dp/B085B24B72 |\n",
       "| Lego Star Wars: The Skywalker Saga (Nintendo Switch) | 75279 | April 5, 2022 | \\\\$59.99 | https://www.amazon.com/Lego-Star-Wars-Skywalker-Nintendo-Switch/dp/B07T1KMS3V |"
      ]
     },
     "metadata": {},
     "output_type": "display_data"
    }
   ],
   "source": [
    "bard_shopping(\"I'm in the market for Star Wars Legos; can you help \\\n",
    "me out?\")"
   ]
  },
  {
   "cell_type": "markdown",
   "id": "1cb2b490-80a3-4c5d-8dc9-9259e9fac8e7",
   "metadata": {
    "editable": true,
    "slideshow": {
     "slide_type": "slide"
    },
    "tags": []
   },
   "source": [
    "### What about board games?"
   ]
  },
  {
   "cell_type": "code",
   "execution_count": 157,
   "id": "a1a81fef-ba4e-4299-845e-85f6eb76399e",
   "metadata": {
    "editable": true,
    "scrolled": true,
    "slideshow": {
     "slide_type": "fragment"
    },
    "tags": []
   },
   "outputs": [
    {
     "data": {
      "text/markdown": [
       "| Name | Players | Age | Year | URL |\n",
       "|---|---|---|---|---|\n",
       "| Sagrada | 1-4 | 8+ | 2017 | https://www.amazon.com/Floodgate-Games-Sagrada-Board-Game/dp/B01MTG2QY2 |\n",
       "| Descent: Legends of the Dark | 1-5 | 14+ | 2016 | https://www.amazon.com/Cooperative-Strategy-Fantasy-Flight-Games/dp/B08LVZ71JW |\n",
       "| Qwirkle | 2-4 | 6+ | 2006 | https://www.amazon.com/MindWare-MDS-32016W-Qwirkle-Board/dp/1933054395 |"
      ]
     },
     "metadata": {},
     "output_type": "display_data"
    }
   ],
   "source": [
    "bard_shopping(\"What about board games?\")"
   ]
  },
  {
   "cell_type": "markdown",
   "id": "f448acbe-39f3-4481-94d0-838bb3011a0a",
   "metadata": {
    "editable": true,
    "slideshow": {
     "slide_type": "slide"
    },
    "tags": []
   },
   "source": [
    "## Reasoning"
   ]
  },
  {
   "cell_type": "markdown",
   "id": "206c2078-e4c0-40e7-806e-7633daf0c08d",
   "metadata": {
    "editable": true,
    "slideshow": {
     "slide_type": "slide"
    },
    "tags": []
   },
   "source": [
    "### Let's play “reverse the word.”"
   ]
  },
  {
   "cell_type": "code",
   "execution_count": 553,
   "id": "5dd1606d-6efd-418f-a106-135d964f9ba4",
   "metadata": {
    "editable": true,
    "slideshow": {
     "slide_type": "fragment"
    },
    "tags": []
   },
   "outputs": [
    {
     "data": {
      "text/markdown": [
       "ytomicran"
      ]
     },
     "metadata": {},
     "output_type": "display_data"
    }
   ],
   "source": [
    "bard('Reverse the word \"craniotomy\".')"
   ]
  },
  {
   "cell_type": "markdown",
   "id": "e81e07ea-5b38-4598-ba8b-1496a246ccfa",
   "metadata": {
    "editable": true,
    "slideshow": {
     "slide_type": "slide"
    },
    "tags": []
   },
   "source": [
    "### Let's try again!"
   ]
  },
  {
   "cell_type": "code",
   "execution_count": 552,
   "id": "22210753-924e-4d92-bead-c346bd513d60",
   "metadata": {
    "editable": true,
    "slideshow": {
     "slide_type": "fragment"
    },
    "tags": []
   },
   "outputs": [
    {
     "data": {
      "text/markdown": [
       "To reverse a word, you take the last letter and put it at the beginning, then take the second to last letter and put it at the end, and so on. For example, the word \"cat\" would be reversed to \"tac\".\n",
       "\n",
       "The word \"craniotomy\" reversed is \"ymotnairc\"."
      ]
     },
     "metadata": {},
     "output_type": "display_data"
    }
   ],
   "source": [
    "bard('Describe how to reverse a word; then reverse \\\n",
    "the word \"craniotomy\".')"
   ]
  },
  {
   "cell_type": "markdown",
   "id": "7a5b72e1-a3f9-4a73-b8b1-0b77063fb8e9",
   "metadata": {
    "editable": true,
    "slideshow": {
     "slide_type": "slide"
    },
    "tags": []
   },
   "source": [
    "### How about with code?"
   ]
  },
  {
   "cell_type": "code",
   "execution_count": 567,
   "id": "8e012064-bbba-4fad-803f-de6707739c38",
   "metadata": {
    "editable": true,
    "slideshow": {
     "slide_type": "fragment"
    },
    "tags": []
   },
   "outputs": [
    {
     "data": {
      "text/markdown": [
       "```python\n",
       "def reverse_word(word):\n",
       "  \"\"\"Reverses a given word.\n",
       "\n",
       "  Args:\n",
       "    word: The word to be reversed.\n",
       "\n",
       "  Returns:\n",
       "    The reversed word.\n",
       "  \"\"\"\n",
       "\n",
       "  reversed_word = \"\"\n",
       "  for letter in word[::-1]:\n",
       "    reversed_word += letter\n",
       "  return reversed_word\n",
       "\n",
       "\n",
       "print(reverse_word(\"craniotomy\"))\n",
       "```"
      ]
     },
     "metadata": {},
     "output_type": "display_data"
    }
   ],
   "source": [
    "bard('Write Python to reverse the word \"craniotomy\".')"
   ]
  },
  {
   "cell_type": "markdown",
   "id": "b2fceec7-fa45-4103-9cae-60278ed78b14",
   "metadata": {
    "editable": true,
    "slideshow": {
     "slide_type": "slide"
    },
    "tags": []
   },
   "source": [
    "### Does the code actually work?"
   ]
  },
  {
   "cell_type": "code",
   "execution_count": 554,
   "id": "10c7596c-454c-4210-8ca5-8916a655c79b",
   "metadata": {
    "editable": true,
    "slideshow": {
     "slide_type": "fragment"
    },
    "tags": []
   },
   "outputs": [
    {
     "data": {
      "text/markdown": [
       "ymotoinarc\n"
      ]
     },
     "metadata": {},
     "output_type": "display_data"
    }
   ],
   "source": [
    "bard_code('Write Python to reverse the word \"craniotomy\".')"
   ]
  },
  {
   "cell_type": "markdown",
   "id": "d5d7c2f5-37c2-450b-851e-e5258a525f62",
   "metadata": {
    "editable": true,
    "slideshow": {
     "slide_type": "slide"
    },
    "tags": []
   },
   "source": [
    "### How does the code work?"
   ]
  },
  {
   "cell_type": "code",
   "execution_count": 557,
   "id": "5c268972-b2f8-48d6-b603-4e13ceebf0d8",
   "metadata": {
    "editable": true,
    "slideshow": {
     "slide_type": "fragment"
    },
    "tags": []
   },
   "outputs": [
    {
     "data": {
      "text/markdown": [
       "**Algorithm for reversing a word:**\n",
       "\n",
       "1. Iterate over the word from the end to the beginning.\n",
       "2. For each character, append it to a new string.\n",
       "3. Return the new string.\n",
       "\n",
       "**Python code to reverse the word \"craniotomy\":**\n",
       "\n",
       "ymotoinarc\n"
      ]
     },
     "metadata": {},
     "output_type": "display_data"
    }
   ],
   "source": [
    "bard_code('Describe the algorithm for reversing a word. Then write \\\n",
    "Python to reverse the word \"craniotomy\".')"
   ]
  },
  {
   "cell_type": "markdown",
   "id": "6d893f92-44ba-4ce2-9a28-17ec0db172be",
   "metadata": {
    "editable": true,
    "slideshow": {
     "slide_type": "slide"
    },
    "tags": []
   },
   "source": [
    "### What about the Bard UI?"
   ]
  },
  {
   "cell_type": "markdown",
   "id": "8e6a9afe-391c-4ade-8cce-4d539def2453",
   "metadata": {
    "editable": true,
    "slideshow": {
     "slide_type": "fragment"
    },
    "tags": []
   },
   "source": [
    "<div><img src='craniotomy.png' width='100%'></div>"
   ]
  },
  {
   "cell_type": "markdown",
   "id": "11113885-67d6-456a-bc2e-799a77e33014",
   "metadata": {
    "editable": true,
    "slideshow": {
     "slide_type": "skip"
    },
    "tags": []
   },
   "source": [
    "### Let's try a little math, too."
   ]
  },
  {
   "cell_type": "code",
   "execution_count": 556,
   "id": "5c4118f5-bbf6-47ac-b471-d48e5b1dd2bf",
   "metadata": {
    "editable": true,
    "scrolled": true,
    "slideshow": {
     "slide_type": "skip"
    },
    "tags": []
   },
   "outputs": [
    {
     "data": {
      "text/markdown": [
       "**Algorithm for finding the greatest common factor:**\n",
       "\n",
       "1. **Step 1:** Find the prime factorization of each number.\n",
       "2. **Step 2:** Find the intersection of the two sets of prime factors.\n",
       "3. **Step 3:** The greatest common factor is the product of the elements in the intersection.\n",
       "\n",
       "**Example:**\n",
       "\n",
       "To find the greatest common factor of 130634 and 4018, we first find their prime factorizations:\n",
       "\n",
       "130634 = 2 * 3 * 11 * 13 * 17\n",
       "4018 = 2 * 2 * 11 * 13\n",
       "\n",
       "The intersection of these two sets of prime factors is {2, 11, 13}. So the greatest common factor of 130634 and 4018 is 2 * 11 * 13 = 3086."
      ]
     },
     "metadata": {},
     "output_type": "display_data"
    }
   ],
   "source": [
    "bard('Describe an algorithm for finding the greatest common factor. \\\n",
    "Use this to calculate the greatest common factor of 130634 and 4018.')"
   ]
  },
  {
   "cell_type": "markdown",
   "id": "10c20676-6945-4782-a566-08553e4855be",
   "metadata": {
    "editable": true,
    "slideshow": {
     "slide_type": "skip"
    },
    "tags": []
   },
   "source": [
    "### What about code?"
   ]
  },
  {
   "cell_type": "code",
   "execution_count": 560,
   "id": "965cd9bd-3aa6-4d92-9320-8bb4a81f1bd0",
   "metadata": {
    "editable": true,
    "scrolled": true,
    "slideshow": {
     "slide_type": "skip"
    },
    "tags": []
   },
   "outputs": [
    {
     "data": {
      "text/markdown": [
       "```python\n",
       "def gcd(a, b):\n",
       "    while b:\n",
       "        a, b = b, a % b\n",
       "    return a\n",
       "\n",
       "print(gcd(130634, 4018))\n",
       "```"
      ]
     },
     "metadata": {},
     "output_type": "display_data"
    }
   ],
   "source": [
    "bard('Write Python code to calculate the greatest common factor \\\n",
    "of 130634 and 4018.')"
   ]
  },
  {
   "cell_type": "markdown",
   "id": "629ad3ea-f912-4140-a31c-b651ed8de07b",
   "metadata": {
    "editable": true,
    "slideshow": {
     "slide_type": "skip"
    },
    "tags": []
   },
   "source": [
    "### Does it run?"
   ]
  },
  {
   "cell_type": "code",
   "execution_count": 561,
   "id": "9880213a-ab31-4355-beca-5570c17e5e0d",
   "metadata": {
    "editable": true,
    "slideshow": {
     "slide_type": "skip"
    },
    "tags": []
   },
   "outputs": [
    {
     "data": {
      "text/markdown": [
       "98\n"
      ]
     },
     "metadata": {},
     "output_type": "display_data"
    }
   ],
   "source": [
    "bard_code('Write Python code to calculate the greatest common \\\n",
    "factor of 130634 and 4018.')"
   ]
  },
  {
   "cell_type": "markdown",
   "id": "2c197122-f628-4095-904c-d749ee2b1263",
   "metadata": {
    "editable": true,
    "slideshow": {
     "slide_type": "slide"
    },
    "tags": []
   },
   "source": [
    "## Tying everything together"
   ]
  },
  {
   "cell_type": "markdown",
   "id": "01128d3f-58a6-4720-a24a-f0e66bc5a0e8",
   "metadata": {
    "editable": true,
    "slideshow": {
     "slide_type": "slide"
    },
    "tags": []
   },
   "source": [
    "### What are Bard extensions?"
   ]
  },
  {
   "cell_type": "markdown",
   "id": "b980b453-b4a6-4f00-932a-914e0f8ff480",
   "metadata": {
    "editable": true,
    "slideshow": {
     "slide_type": "fragment"
    },
    "tags": []
   },
   "source": [
    "<div><img src='emails.png' width='75%'></div>"
   ]
  },
  {
   "cell_type": "markdown",
   "id": "5419d7fe-b702-4e6a-bcd0-cbb0b5e7fe22",
   "metadata": {
    "editable": true,
    "slideshow": {
     "slide_type": "slide"
    },
    "tags": []
   },
   "source": [
    "### Let's implement Bard extensions!"
   ]
  },
  {
   "cell_type": "code",
   "execution_count": 565,
   "id": "2fd6d5a9-801d-421e-beed-8583edc687d3",
   "metadata": {
    "editable": true,
    "slideshow": {
     "slide_type": "skip"
    },
    "tags": []
   },
   "outputs": [],
   "source": [
    "code = bard_code\n",
    "shopping = bard_shopping\n",
    "vanilla = bard"
   ]
  },
  {
   "cell_type": "code",
   "execution_count": 566,
   "id": "ba19c8a5-2239-46c1-8562-74483451c58b",
   "metadata": {
    "editable": true,
    "slideshow": {
     "slide_type": "fragment"
    },
    "tags": []
   },
   "outputs": [],
   "source": [
    "def bard_extensions(query: str) -> str:\n",
    "    bard_code(f'''Three functions have been defined for you \\\n",
    "for answering user queries:\n",
    "          \n",
    "def vanilla(query: str) -> str:\n",
    "    \"\"\"The default API for queries.\"\"\"\n",
    "\n",
    "def code(query: str) -> str:\n",
    "    \"\"\"An API for answering questions with Python code.\"\"\"\n",
    "\n",
    "def shopping(query: str) -> str:\n",
    "    \"\"\"An API for shopping-related queries.\"\"\"\n",
    "\n",
    "Please find the most appropriate function (`vanilla`, `code`, \\\n",
    "`shopping`); write code to call the function with the user \\\n",
    "query; surround the code with backticks. For example, if the \\\n",
    "user's query is \"count to 10,\" write:\n",
    "\n",
    "```python\n",
    "code(\"count to 10\")\n",
    "```\n",
    "\n",
    "Here is the query: \"{query}\"''')"
   ]
  },
  {
   "cell_type": "markdown",
   "id": "e5fcd32e-d242-4c9d-8b79-99671fc4398a",
   "metadata": {
    "editable": true,
    "slideshow": {
     "slide_type": "slide"
    },
    "tags": []
   },
   "source": [
    "### First, let's try shopping."
   ]
  },
  {
   "cell_type": "code",
   "execution_count": 495,
   "id": "47ed1215-728c-421c-9942-9e38999fc2f1",
   "metadata": {
    "editable": true,
    "slideshow": {
     "slide_type": "fragment"
    },
    "tags": []
   },
   "outputs": [
    {
     "data": {
      "text/markdown": [
       "| Shoe Name | Price | URL |\n",
       "|---|---|---|\n",
       "| Purses & Shoes For Sale: The joys and challenges of caring for the elderly | \\$9.99 | https://www.amazon.com/Purses-Shoes-Sale-challenges-elderly/dp/0925417963 |\n",
       "| Holiday Sale Shoes Sale King Swooper Flag Sign | \\$19.99 | https://www.amazon.com/Holiday-Shoes-Swooper-Complete-Hybrid/dp/B073NPS5RS |\n",
       "| Holiday Sale Shoes Sale Welcome King Swooper Feather Complete | \\$24.99 | https://www.amazon.com/Holiday-Welcome-Swooper-Feather-Complete/dp/B07B3T8BCY |"
      ]
     },
     "metadata": {},
     "output_type": "display_data"
    },
    {
     "data": {
      "text/markdown": []
     },
     "metadata": {},
     "output_type": "display_data"
    }
   ],
   "source": [
    "bard_extensions(\"What are the best deals on shoes?\")"
   ]
  },
  {
   "cell_type": "markdown",
   "id": "daecd884-17ee-43db-a323-f207cb9ff3a3",
   "metadata": {
    "editable": true,
    "slideshow": {
     "slide_type": "slide"
    },
    "tags": []
   },
   "source": [
    "### What about code?"
   ]
  },
  {
   "cell_type": "code",
   "execution_count": 563,
   "id": "b2b425a8-b9c2-4933-9936-50f711c38002",
   "metadata": {
    "editable": true,
    "slideshow": {
     "slide_type": "fragment"
    },
    "tags": []
   },
   "outputs": [
    {
     "data": {
      "text/markdown": [
       "0\n",
       "1\n",
       "1\n",
       "2\n",
       "3\n",
       "5\n",
       "8\n",
       "13\n",
       "21\n",
       "34\n"
      ]
     },
     "metadata": {},
     "output_type": "display_data"
    },
    {
     "data": {
      "text/markdown": []
     },
     "metadata": {},
     "output_type": "display_data"
    }
   ],
   "source": [
    "bard_extensions(\"Write Python to generate the first 10 numbers in the \\\n",
    "Fibonacci series.\")"
   ]
  },
  {
   "cell_type": "markdown",
   "id": "dc4c1451-3213-4793-b1b3-7e09ae438990",
   "metadata": {
    "editable": true,
    "slideshow": {
     "slide_type": "slide"
    },
    "tags": []
   },
   "source": [
    "### And, finally, something creative!"
   ]
  },
  {
   "cell_type": "code",
   "execution_count": 564,
   "id": "12d15bbd-f90b-4a37-86da-df26d8b8ea55",
   "metadata": {
    "editable": true,
    "slideshow": {
     "slide_type": "fragment"
    },
    "tags": []
   },
   "outputs": [
    {
     "data": {
      "text/markdown": [
       "There once was a developer named Ben,\n",
       "Whose code was so clean, it was zen.\n",
       "He spoke at the conference,\n",
       "And gave us a glance,\n",
       "Of the future of Google, my friend."
      ]
     },
     "metadata": {},
     "output_type": "display_data"
    },
    {
     "data": {
      "text/markdown": []
     },
     "metadata": {},
     "output_type": "display_data"
    }
   ],
   "source": [
    "bard_extensions('Write a limerick to close out our Google developers \\\n",
    "conference')"
   ]
  },
  {
   "cell_type": "markdown",
   "id": "defd37cd-0a11-4e03-ad76-d855427c006a",
   "metadata": {
    "editable": true,
    "slideshow": {
     "slide_type": "slide"
    },
    "tags": []
   },
   "source": [
    "## In conclusion"
   ]
  },
  {
   "cell_type": "markdown",
   "id": "da6c2cb5-f505-456c-bd31-585e787562ea",
   "metadata": {
    "editable": true,
    "raw_mimetype": "",
    "slideshow": {
     "slide_type": "fragment"
    },
    "tags": []
   },
   "source": [
    "- Creativity (persona)"
   ]
  },
  {
   "cell_type": "markdown",
   "id": "92ea3bd0-0494-44af-a786-0e0f3c39cdec",
   "metadata": {
    "editable": true,
    "raw_mimetype": "",
    "slideshow": {
     "slide_type": "fragment"
    },
    "tags": []
   },
   "source": [
    "- Factuality (injection)"
   ]
  },
  {
   "cell_type": "markdown",
   "id": "2352ac41-0802-417c-99b3-8d8d5c784b20",
   "metadata": {
    "editable": true,
    "raw_mimetype": "",
    "slideshow": {
     "slide_type": "fragment"
    },
    "tags": []
   },
   "source": [
    "- Reasoning (code)"
   ]
  },
  {
   "cell_type": "markdown",
   "id": "a2224edd-7212-4dc9-ab51-69ea7c527504",
   "metadata": {
    "editable": true,
    "slideshow": {
     "slide_type": "fragment"
    },
    "tags": []
   },
   "source": [
    "- [bardmeetup.ai](http://bardmeetup.ai)"
   ]
  }
 ],
 "metadata": {
  "kernelspec": {
   "display_name": "Python 3 (ipykernel)",
   "language": "python",
   "name": "python3"
  },
  "language_info": {
   "codemirror_mode": {
    "name": "ipython",
    "version": 3
   },
   "file_extension": ".py",
   "mimetype": "text/x-python",
   "name": "python",
   "nbconvert_exporter": "python",
   "pygments_lexer": "ipython3",
   "version": "3.11.5"
  }
 },
 "nbformat": 4,
 "nbformat_minor": 5
}
